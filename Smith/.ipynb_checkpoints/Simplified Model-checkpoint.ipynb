{
 "cells": [
  {
   "cell_type": "code",
   "execution_count": 1,
   "metadata": {},
   "outputs": [],
   "source": [
    "import numpy as np\n",
    "import matplotlib.pyplot as plt\n",
    "from scipy.optimize import fsolve"
   ]
  },
  {
   "cell_type": "code",
   "execution_count": 2,
   "metadata": {},
   "outputs": [],
   "source": [
    "applied_current = 10 #A/m2\n",
    "\n",
    "w_S = 0.7 #Mass Fraction Sulfur \n",
    "mg_S_cm2 = 10 #Areal Mass Loading Sulfur (mg/cm2)\n",
    "\n",
    "rho_carbon_bulk = 120 #Typical of high porosity Ketjen black 120\n",
    "\n",
    "#Cathode Effective Electronic Conductivity\n",
    "sigma_C_eff = 10 #S/m\n",
    "\n",
    "#x-discretization\n",
    "nodes = 50\n",
    "\n",
    "R = 8.324 #J/mol.K\n",
    "F = 96485 #C/mol\n",
    "T = 298 #K\n",
    "\n",
    "#Species Diffusivity (m2/s) [Li^+, S8, S8^2-, S6^2-, S4^2-, S2^2-, S^2-, A^-]\n",
    "D_i = np.array([1e-10, 1e-9, 6e-10, 6e-10, 1e-10, 1e-10, 1e-10, 4e-10])\n",
    "\n",
    "#Material Density (kg/m3)\n",
    "rho_carbon_true = 2000 \n",
    "\n",
    "\n",
    "#Porosity of carbon support\n",
    "eps_void_carbon = 1 - rho_carbon_bulk/rho_carbon_true\n",
    "\n",
    "#Initial Cathode Dry Composition\n",
    "m_S = mg_S_cm2/10**6*100**2 #Areal sulfur mass loading (kg/m2)\n",
    "#Mass Fraction [S8, C]\n",
    "w_i = np.array([w_S, 1 - w_S])\n",
    "#Molar mass (kg/mol)\n",
    "M_i = np.array([0.25648, 0.012011])\n",
    "#Moles at 1kg basis (mol)\n",
    "n_i_dry = w_i/M_i\n",
    "#Molar volumes (m3/mol) \n",
    "V_S_n = 1.239e-4\n",
    "V_C_n_bulk = M_i[1]/rho_carbon_bulk\n",
    "V_C_n_true = M_i[1]/rho_carbon_true\n",
    "#Volumes at 1 kg basis (m3)\n",
    "V_S = V_S_n*n_i_dry[0]\n",
    "V_C_bulk = V_C_n_bulk*n_i_dry[1]\n",
    "V_C_true = V_C_n_true*n_i_dry[1]\n",
    "V_void_C = V_C_bulk*eps_void_carbon\n",
    "V_void_cat = V_void_C - V_S\n",
    "\n",
    "eps_S_init = V_S/V_C_bulk #Approximate. Valid until ~95% Sulfur loading.\n",
    "\n",
    "#Initial Liquid Porosity\n",
    "eps_elyte_sep_init = 0.39 #separator\n",
    "eps_elyte_cat_init = V_void_cat/V_C_bulk #cathode (Assuming negligible sulfur contribution to cathode volume)\n",
    "\n",
    "#Bruggeman Coefficients/Tortuosity\n",
    "b_sep = -0.5\n",
    "b_cat = -0.5\n",
    "tau_elyte_sep_init = eps_elyte_sep_init**b_sep\n",
    "tau_elyte_cat_init = eps_elyte_cat_init**b_cat\n",
    "\n",
    "#Initial Concentrations (mol/m3) [Li^+, S8, S8^2-, S6^2-, S4^2-, S2^2-, S^2-, A^-]\n",
    "C_i = np.array([1001.0440010474534, 19.0, 0.178, 0.324, 0.020, 5.229e-7, 8.267e-10, 1000.0])\n",
    "\n",
    "#Species charge [Li^+, S8, S8^2-, S6^2-, S4^2-, S2^2-, S^2-, A^-]\n",
    "z_i = np.array([1, 0, -2, -2, -2, -2, -2, -1])\n",
    "\n",
    "#Butler-Volmer Parameters\n",
    "i_o_i = np.array([0.394, 1.972, 0.019, 0.019, 1.97e-4, 1.97e-4])\n",
    "alpha = 0.5\n",
    "n_elec = 1\n",
    "#Stoichiometric coefficients, s_i_j of species i in reaction j\n",
    "s_i_j = np.array([[-1,0,0,0,0,0,0,0],\n",
    "                 [0, -1/2,1/2,0,0,0,0,0],\n",
    "                 [0,0,-3/2,2,0,0,0,0],\n",
    "                 [0,0,0,-1,3/2,0,0,0],\n",
    "                 [0,0,0,0,-1/2,1,0,0],\n",
    "                 [0,0,0,0,0,-1/2,1,0]])\n",
    "#Half-Cell Potentials\n",
    "U_half = np.array([0.0, 2.39, 2.37, 2.24, 2.04, 2.01]) #V (vs Li/Li+)\n",
    "U_half_ref = np.zeros(6) \n",
    "for j in range(6):\n",
    "    U_half_ref[j] = U_half[j] - R*T/n_elec/F*np.sum(s_i_j[j]*np.log(C_i/1000))\n",
    "\n",
    "#Initial Cathode Surface Area\n",
    "a_specific_C = 1270. #Carbon specific surface area (m2/kg)\n",
    "a = a_specific_C*rho_carbon_bulk*(eps_elyte_cat_init/eps_void_carbon)**1.5 #Cathode volumetric surface (m2/m3)\n",
    "\n",
    "\n",
    "#Cathode Thickness (m)\n",
    "l_cat = V_S_n/M_i[0]*m_S/eps_S_init\n",
    "\n",
    "#Separator Thickness (m)\n",
    "l_sep = 25e-6\n",
    "\n",
    "#Cell Thickness (m)\n",
    "l_cell = l_cat + l_sep\n",
    "\n",
    "#Step size (m)\n",
    "dx = 5e-06\n",
    "\n",
    "#x-discretization\n",
    "x = np.linspace(0, l_cell, nodes)\n",
    "dx = l_cell/nodes\n",
    "\n",
    "sep_cat_node = int(round(l_sep/dx)) + 1\n",
    "\n"
   ]
  },
  {
   "cell_type": "code",
   "execution_count": 3,
   "metadata": {},
   "outputs": [],
   "source": [
    "#Initialize electrolyte porosity array\n",
    "eps_elyte = np.zeros(len(x))\n",
    "D_i_eff = np.zeros((8, len(x)))\n",
    "\n",
    "#Populate initial conditions\n",
    "for j in range(sep_cat_node+1):\n",
    "    eps_elyte[j] = eps_elyte_sep_init\n",
    "    D_i_eff[:,j] = D_i*eps_elyte[j]/tau_elyte_sep_init\n",
    "for j in range(sep_cat_node+1,nodes):\n",
    "    eps_elyte[j] = eps_elyte_cat_init\n",
    "    D_i_eff[:,j] = D_i*eps_elyte[j]/tau_elyte_cat_init\n",
    "   "
   ]
  },
  {
   "cell_type": "code",
   "execution_count": 4,
   "metadata": {},
   "outputs": [],
   "source": [
    "#Function that accepts Butler-Volmer parameters for lithium stripping and outputs faradaic current - minus applied current\n",
    "#Liquid potential will be varied to set output to zero\n",
    "def BV_an(phi_elyte_0, U_half_ref, i_o_Li, C_Li, C_Li_ref, nu_Li, alpha, F, R, T):\n",
    "    eta = 0 - phi_elyte_0 - U_half_ref\n",
    "    n = i_o_Li*((C_Li/C_Li_ref)**nu_Li*np.exp(alpha*F*eta/R/T) - ((C_Li/C_Li_ref)**(-nu_Li))*np.exp(-alpha*F*eta/R/T)) \\\n",
    "    - applied_current\n",
    "    return n\n",
    "\n",
    "#Solves for the electrolyte potential at x = 0 for given concentration, applied current\n",
    "phi_elyte_0 = fsolve(BV_an, -0.1, args = (U_half_ref[0], i_o_i[0], C_i[0], C_i[0], s_i_j[0,0], alpha, F, R, T))"
   ]
  },
  {
   "cell_type": "code",
   "execution_count": 5,
   "metadata": {},
   "outputs": [],
   "source": [
    "#Function that accepts Butler-Volmer parameters for cathode reactions and outputs net faradaic current\n",
    "#Solid potential will be varied to set output to zero\n",
    "def BV_cat(phi_cat_ref, i_o_i, C_i, C_i_l_ref, s_i_j, alpha, F, R, T, sep_cat_node, phi_elyte, U_half_ref):\n",
    "    eta_j = phi_cat_ref - phi_elyte - U_half_ref\n",
    "    i_j_ref = i_o_i*((np.prod((C_i/C_i_l_ref)**s_i_j))*np.exp(alpha*F*eta_j/R/T) - \\\n",
    "            (np.prod((C_i/C_i_l_ref)**-s_i_j))*np.exp(-alpha*F*eta_j/R/T))\n",
    "    i_sum = np.sum(i_j_ref[1:])\n",
    "    return i_sum"
   ]
  },
  {
   "cell_type": "code",
   "execution_count": 6,
   "metadata": {},
   "outputs": [],
   "source": [
    "#Initialize arrays for solid potential\n",
    "phi_s = np.zeros_like(x)\n",
    "\n",
    "#Populate phi_s with some initial guesses\n",
    "phi_cat_ref = fsolve(BV_cat, 2.5, args = (i_o_i, C_i, C_i, s_i_j, alpha, F, R, T, sep_cat_node, phi_elyte_0, U_half_ref))\n",
    "for j in range(sep_cat_node+1,nodes):\n",
    "    phi_s[j] = phi_cat_ref - (j-sep_cat_node-1)*0.0001\n",
    "\n",
    "#Initialize first and second derivatives of phi_s\n",
    "dphi_s_dx = np.zeros_like(x)\n",
    "ddphi_s_dxx = np.zeros_like(x)"
   ]
  },
  {
   "cell_type": "code",
   "execution_count": 7,
   "metadata": {},
   "outputs": [],
   "source": [
    "#Initialize arrays for liquid potential and populate with initial guesses\n",
    "phi_e = phi_elyte_0*np.linspace(1,0.9,len(x))\n",
    "\n",
    "#Initialize first and second derivatives of phi_e\n",
    "dphi_e_dx = np.zeros_like(x)\n",
    "ddphi_e_dxx = np.zeros_like(x)"
   ]
  },
  {
   "cell_type": "code",
   "execution_count": 8,
   "metadata": {},
   "outputs": [],
   "source": [
    "#Initializae arrays for current and current derivatives\n",
    "i_e = np.zeros_like(x)\n",
    "i_s = np.zeros_like(x)\n",
    "di_e_dx = np.zeros_like(x)\n",
    "di_s_dx = np.zeros_like(x)"
   ]
  },
  {
   "cell_type": "code",
   "execution_count": 9,
   "metadata": {},
   "outputs": [
    {
     "data": {
      "text/plain": [
       "Text(0, 0.5, 'Potential (V vs Li/Li$^+$)')"
      ]
     },
     "execution_count": 9,
     "metadata": {},
     "output_type": "execute_result"
    },
    {
     "data": {
      "image/png": "[encoded data removed]",
      "text/plain": [
       "<Figure size 432x288 with 1 Axes>"
      ]
     },
     "metadata": {
      "needs_background": "light"
     },
     "output_type": "display_data"
    }
   ],
   "source": [
    "#Plot the initial guesses for phi\n",
    "plt.plot(x*1e6,phi_s, label = 'Solid')\n",
    "plt.plot(x*1e6,phi_e, label = 'Liquid')\n",
    "plt.legend()\n",
    "plt.xlabel('Position ($\\mu$m)')\n",
    "plt.ylabel('Potential (V vs Li/Li$^+$)')"
   ]
  },
  {
   "cell_type": "code",
   "execution_count": 10,
   "metadata": {},
   "outputs": [],
   "source": [
    "#The following section loops through position j several times to converge on a solution for phi_s and phi_e\n",
    "for iter in range(10000): #Iteration counter. A while loop with some sort of residual value would be better, but \\\n",
    "                            #probably not worth it considering the results are questionable. \\\n",
    "                            #For some reason the solution converges very slowly so many iterations are needed.\n",
    "    #Start at the anode-separator boundary\n",
    "    j = 0\n",
    "    phi_s[j] = 0 #Lithium is the reference for potential\n",
    "    dphi_s_dx[j] = 0 #Zero potential drop due to zero electronic current\n",
    "    ddphi_s_dxx[j] = 0 #Constant potential drop\n",
    "    phi_e[j] = phi_elyte_0 #Liquid potential calculated from Butler-Volmer kinetics\n",
    "    dphi_e_dx[j] = -applied_current*R*T/(eps_elyte[j]*z_i[0]*D_i_eff[0,j]*C_i[0]*F**2) \\\n",
    "                                        #Current carried only by lithium ion molar flux\n",
    "    ddphi_e_dxx[j] = 0 #Constant liuid phase current\n",
    "    \n",
    "    i_e[j] = applied_current\n",
    "    i_s[j] = 0\n",
    "    \n",
    "    #Progress through the separator layer\n",
    "    for j in range(1,sep_cat_node+1):\n",
    "        dphi_s_dx[j] = dphi_s_dx[j-1] #Constant derivative in separator\n",
    "        ddphi_s_dxx[j] = ddphi_s_dxx[j-1] #Constant derivative in separator\n",
    "        phi_s[j] = phi_s[j-1] + dphi_s_dx[j]*dx #Backwards finite difference calculation\n",
    "        dphi_e_dx[j] = dphi_e_dx[j-1] #Constant derivative in separator\n",
    "        ddphi_e_dxx[j] = ddphi_e_dxx[j-1] #Constant derivative in separator\n",
    "        phi_e[j] = phi_e[j-1] + dphi_e_dx[j]*dx #backwards finite difference calculation\n",
    "        \n",
    "        i_e[j] = applied_current #No faradaic reactions: di_e/dx = 0\n",
    "        i_s[j] = 0 #No faradaic reactions: di_s/dx = -di_e/dx = 0\n",
    "        \n",
    "    #Calculate for the first node in the cathode layer \"sep_cat_node+1\"\n",
    "    j = sep_cat_node + 1\n",
    "    ddphi_e_dxx[j] = 0 #Ionic flux is equal across the separator-cathode interface\n",
    "    phi_e[j] = (phi_e[j+1] + phi_e[j-1] - ddphi_e_dxx[j]*dx**2)/2 #Central finite difference to link two solutions\n",
    "    dphi_e_dx[j] = 0 #No change in electrolyte current in first node of cathode\n",
    "    phi_s[j] = fsolve(BV_cat, 2.5, args = (i_o_i, C_i, C_i, s_i_j, alpha, F, R, T, sep_cat_node, phi_elyte_0, U_half_ref))\n",
    "    dphi_s_dx[j] = 0 #No solid current in first node of cathode\n",
    "    ddphi_s_dxx[j] = 0 #No faradaic current in first node of cathode\n",
    "    \n",
    "    i_e[j] = applied_current #No faradaic current in first node of cathode\n",
    "    i_s[j] = 0 #No faradaic current in first node of cathode\n",
    "    \n",
    "    #Progress through the cathode layer\n",
    "    for j in range(sep_cat_node+2,nodes-1):\n",
    "        i_j_sum = BV_cat(phi_s[j], i_o_i, C_i, C_i, s_i_j, alpha, F, R, T, sep_cat_node, phi_e[j], U_half_ref) \\\n",
    "                                                #Calculate the net faradaic current in the node\n",
    "        ddphi_s_dxx[j] = a/sigma_C_eff*i_j_sum #Ohm's law for potential drop in a solid\n",
    "        phi_s[j] = (phi_s[j+1] + phi_s[j-1] - ddphi_s_dxx[j]*dx**2)/2 #Center finite difference calculation\n",
    "        dphi_s_dx[j] = (phi_s[j+1] - phi_s[j-1])/dx #Center finite difference calculation\n",
    "        ddphi_e_dxx[j] = -a*i_j_sum/(np.sum(z_i**2*F**2*D_i_eff[:,j]*C_i/(R*T))) \\\n",
    "                        #Relating second derivative of phi_e with the first derivative of the flux via Nernst-Plank eqn\n",
    "        phi_e[j] = (phi_e[j+1] + phi_e[j-1] - ddphi_e_dxx[j]*dx**2)/2 #Center finite difference calculation\n",
    "        dphi_e_dx[j] = (phi_e[j+1] - phi_e[j-1])/dx #Center finite difference calculation\n",
    "        \n",
    "        di_e_dx[j] = a*i_j_sum\n",
    "        i_e[j] = i_e[j-1] + di_e_dx[j]*dx\n",
    "        \n",
    "        di_s_dx[j] = -di_e_dx[j]\n",
    "        i_s[j] = i_s[j-1] + di_s_dx[j]*dx\n",
    "        \n",
    "    #Calculate for the final node in the cathode layer \"nodes-1\"\n",
    "    j = nodes - 1\n",
    "    dphi_s_dx[j] = -applied_current/sigma_C_eff #All current carried by solid phase\n",
    "    ddphi_s_dxx[j] = 0 #Constant derivative\n",
    "    phi_s[j] = phi_s[j-1] + dphi_s_dx[j]*dx #Backwards finite difference calculation\n",
    "    dphi_e_dx[j] = 0 #No ionic flux, impermeable current collector\n",
    "    ddphi_e_dxx[j] = 0 #Constant first derivative\n",
    "    phi_e[j] = phi_e[j-1] + dphi_e_dx[j]*dx #Backwards finite difference calculation\n",
    "    \n",
    "    i_e[j] = 0\n",
    "    i_s[j] = applied_current\n",
    "    "
   ]
  },
  {
   "cell_type": "code",
   "execution_count": 11,
   "metadata": {},
   "outputs": [
    {
     "data": {
      "text/plain": [
       "Text(0, 0.5, 'Potential (V vs Li/Li$^+$)')"
      ]
     },
     "execution_count": 11,
     "metadata": {},
     "output_type": "execute_result"
    },
    {
     "data": {
      "image/png": "[encoded data removed]",
      "text/plain": [
       "<Figure size 432x288 with 1 Axes>"
      ]
     },
     "metadata": {
      "needs_background": "light"
     },
     "output_type": "display_data"
    }
   ],
   "source": [
    "#Plot the full-cell potential solution.\n",
    "plt.plot(x*1e6, phi_s, label = 'Solid')\n",
    "plt.plot(x*1e6, phi_e, label = 'Liquid')\n",
    "plt.legend()\n",
    "plt.xlabel('Cell Position ($\\mu$m)')\n",
    "plt.ylabel('Potential (V vs Li/Li$^+$)')\n",
    "#plt.savefig('PotentialSolution-15mg_cm2-1mA_cm2.png')"
   ]
  },
  {
   "cell_type": "code",
   "execution_count": 12,
   "metadata": {},
   "outputs": [
    {
     "data": {
      "text/plain": [
       "<matplotlib.legend.Legend at 0x202ee1e85f8>"
      ]
     },
     "execution_count": 12,
     "metadata": {},
     "output_type": "execute_result"
    },
    {
     "data": {
      "image/png": "[encoded data removed]",
      "text/plain": [
       "<Figure size 432x288 with 1 Axes>"
      ]
     },
     "metadata": {
      "needs_background": "light"
     },
     "output_type": "display_data"
    }
   ],
   "source": [
    "#Plot the solid phase potential in the cathode layer.\n",
    "plt.plot(x*1e6, phi_s, label = 'Solid Phase Potential In Cathode')\n",
    "plt.xlim((sep_cat_node+1)*dx*1e6, nodes*dx*1e6)\n",
    "plt.ylim(2.2,2.4)\n",
    "plt.xlabel('Cell Position ($\\mu$m)')\n",
    "plt.ylabel('Solid Potential (V vs Li/Li$^+$)')\n",
    "plt.legend()\n",
    "#plt.savefig('CathodePhiSol-15mg_cm2-5mA_cm2-loweps_sigma.png')"
   ]
  },
  {
   "cell_type": "code",
   "execution_count": 13,
   "metadata": {},
   "outputs": [
    {
     "data": {
      "text/plain": [
       "<matplotlib.legend.Legend at 0x202ee271f98>"
      ]
     },
     "execution_count": 13,
     "metadata": {},
     "output_type": "execute_result"
    },
    {
     "data": {
      "image/png": "[encoded data removed]",
      "text/plain": [
       "<Figure size 432x288 with 1 Axes>"
      ]
     },
     "metadata": {
      "needs_background": "light"
     },
     "output_type": "display_data"
    }
   ],
   "source": [
    "#Plot the liquid phase potential in the cathode layer.\n",
    "plt.plot(x*1e6, phi_e, 'orange', label = 'Liquid Phase Potential in Cathode')\n",
    "plt.xlim((sep_cat_node+1)*dx*1e6, nodes*dx*1e6)\n",
    "plt.ylim(-0.2,-0.1)\n",
    "plt.xlabel('Cell Position ($\\mu$m)')\n",
    "plt.ylabel('Liquid Potential (V vs Li/Li$^+$)')\n",
    "plt.legend()\n",
    "#plt.savefig('CathodePhiLiq-15mg_cm2-5mA_cm2-loweps_sigma.png')"
   ]
  },
  {
   "cell_type": "code",
   "execution_count": 14,
   "metadata": {},
   "outputs": [
    {
     "data": {
      "text/plain": [
       "<matplotlib.legend.Legend at 0x202ee2af8d0>"
      ]
     },
     "execution_count": 14,
     "metadata": {},
     "output_type": "execute_result"
    },
    {
     "data": {
      "image/png": "[encoded data removed]",
      "text/plain": [
       "<Figure size 432x288 with 1 Axes>"
      ]
     },
     "metadata": {
      "needs_background": "light"
     },
     "output_type": "display_data"
    }
   ],
   "source": [
    "#Calculate net current.\n",
    "i_tot = i_e + i_s\n",
    "\n",
    "#Plot current distribution across the cell.\n",
    "plt.plot(x*1e6, i_s, label = 'Solid')\n",
    "plt.plot(x*1e6, i_e, label = 'Liquid')\n",
    "plt.plot(x*1e6, i_tot, label = 'Net')\n",
    "plt.xlabel('Cell Position ($\\mu$m)')\n",
    "plt.ylabel('Current Density (A m$^-2$)')\n",
    "plt.legend()\n",
    "#plt.savefig('Currents-15mg_cm2-1mA_cm2')"
   ]
  },
  {
   "cell_type": "code",
   "execution_count": null,
   "metadata": {},
   "outputs": [],
   "source": []
  }
 ],
 "metadata": {
  "kernelspec": {
   "display_name": "Python 3",
   "language": "python",
   "name": "python3"
  },
  "language_info": {
   "codemirror_mode": {
    "name": "ipython",
    "version": 3
   },
   "file_extension": ".py",
   "mimetype": "text/x-python",
   "name": "python",
   "nbconvert_exporter": "python",
   "pygments_lexer": "ipython3",
   "version": "3.7.3"
  }
 },
 "nbformat": 4,
 "nbformat_minor": 2
}
