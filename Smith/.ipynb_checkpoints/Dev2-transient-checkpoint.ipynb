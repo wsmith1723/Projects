{
 "cells": [
  {
   "cell_type": "code",
   "execution_count": 1,
   "metadata": {},
   "outputs": [],
   "source": [
    "import numpy as np\n",
    "import matplotlib.pyplot as plt\n",
    "from scipy.optimize import fsolve"
   ]
  },
  {
   "cell_type": "code",
   "execution_count": 2,
   "metadata": {},
   "outputs": [],
   "source": [
    "#====Physical Parameters====\n",
    "#Temperature (K)\n",
    "T = 25+273\n",
    "R = 8.314 #Gas Constant (J/mol/K)\n",
    "F = 96485 #Faraday Constant (C/mol)\n",
    "    \n",
    "#====Cathode Materials Physical Parameters====\n",
    "#Molar Volume (m3/mol) [S8, Li2S8, Li2S4, Li2S2, Li2S]\n",
    "V_i = np.array([1.239e-4, 1.361e-4, 7.415e-5, 4.317e-5, 2.768e-5])\n",
    "    \n",
    "#Material Density (kg/m3)\n",
    "rho_carbon_true = 2000 \n",
    "rho_carbon_bulk = 120 #Typical of high porosity Ketjen black 120\n",
    "    \n",
    "    #Porosity of carbon support\n",
    "eps_void_carbon = 1 - rho_carbon_bulk/rho_carbon_true\n",
    "#eps_carbon = 1 - eps_void_carbon\n",
    "    \n",
    "    #====Electrolyte Physical Parameters====\n",
    "    #Species charge [Li^+, S8, S8^2-, S6^2-, S4^2-, S2^2-, S^2-, A^-]\n",
    "z_i = np.array([1, 0, -2, -2, -2, -2, -2, -1])\n",
    "    \n",
    "    #Species Diffusivity (m2/s) [Li^+, S8, S8^2-, S6^2-, S4^2-, S2^2-, S^2-, A^-]\n",
    "D_i = np.array([1e-10, 1e-9, 6e-10, 6e-10, 1e-10, 1e-10, 1e-10, 4e-10])\n",
    "    \n",
    "    #====Initial Cathode Dry Composition====\n",
    "w_S = 0.7 #Mass Fraction Sulfur \n",
    "mg_S_cm2 = 1 #Areal Mass Loading Sulfur (mg/cm2)\n",
    "m_S = mg_S_cm2/10**6*100**2 #Areal sulfur mass loading (kg/m2)\n",
    "    #Mass Fraction [S8, C]\n",
    "w_i = np.array([w_S, 1 - w_S])\n",
    "    #Molar mass (kg/mol)\n",
    "M_i = np.array([0.25648, 0.012011])\n",
    "    #Moles at 1kg basis (mol)\n",
    "n_i_dry = w_i/M_i\n",
    "    #Molar volumes (m3/mol) \n",
    "V_S_n = 1.239e-4\n",
    "V_C_n_bulk = M_i[1]/rho_carbon_bulk\n",
    "V_C_n_true = M_i[1]/rho_carbon_true\n",
    "    #Volumes at 1 kg basis (m3)\n",
    "V_S = V_S_n*n_i_dry[0]\n",
    "V_C_bulk = V_C_n_bulk*n_i_dry[1]\n",
    "V_C_true = V_C_n_true*n_i_dry[1]\n",
    "V_void_C = V_C_bulk*eps_void_carbon\n",
    "V_void_cat = V_void_C - V_S\n",
    "    #Initial Volume Fraction of Sulfur\n",
    "eps_S_init = V_S/V_C_bulk #Approximate. Valid until ~95% Sulfur loading.\n",
    "eps_carbon = V_C_true/V_C_bulk\n",
    "    \n",
    "    #====Reaction Parameters====\n",
    "    #Butler-Volmer Parameters\n",
    "i_o_i = np.array([0.394, 1.972, 0.019, 0.019, 1.97e-4, 1.97e-4])\n",
    "alpha = 0.5\n",
    "n_elec = 1\n",
    "U_half = np.array([0.0, 2.39, 2.37, 2.24, 2.04, 2.01])\n",
    "\n",
    "#Stoichiometric coefficients, s_i_j of species i in reaction j\n",
    "s_i_j = np.array([[-1,0,0,0,0,0,0,0],\n",
    "                 [0, -1/2,1/2,0,0,0,0,0],\n",
    "                 [0,0,-3/2,2,0,0,0,0],\n",
    "                 [0,0,0,-1,3/2,0,0,0],\n",
    "                 [0,0,0,0,-1/2,1,0,0],\n",
    "                 [0,0,0,0,0,-1/2,1,0]])\n",
    "\n",
    "    #Precipitation Parameters [S8, Li2S8, Li2S4, Li2S2, Li2S]\n",
    "k_precip = np.array([1, 1e-4, 9.98e-5, 9.98e-5, 27.5])\n",
    "K_sol = np.array([19, 38.09, 11.26, 5.1e-3, 3.0e-5])\n",
    "C_i_k_ref = np.array([1/V_S_n, 1e-20, 1e-20, 1e-20, 1e-20])\n",
    "                    #S8, Li2S8, Li2S4, Li2S2, Li2S\n",
    "gamma_i_k = np.array([[0, 2, 2, 2, 2], #Li^+\n",
    "                      [1, 0, 0, 0, 0], #S8\n",
    "                      [0, 1, 0, 0, 0], #S8^2-\n",
    "                      [0, 0, 0, 0, 0], #S6^2-\n",
    "                      [0, 0, 1, 0, 0], #S4^2-\n",
    "                      [0, 0, 0, 1, 0], #S2^2-\n",
    "                      [0, 0, 0, 0, 1], #S^2-\n",
    "                      [0, 0, 0, 0, 0]])#A^-\n",
    "\n",
    "    #====Initial Conditions====\n",
    "    #Reference (Initial) Concentrations (mol/m3) [Li^+, S8, S8^2-, S6^2-, S4^2-, S2^2-, S^2-, A^-]\n",
    "C_i_l_ref = np.array([1001.0440010474534, 19.0, 0.178, 0.324, 0.020, 5.229e-7, 8.267e-10, 1000.0])\n",
    "\n",
    "    #Reference Half Cell Potentials\n",
    "U_half_ref = U_half - R*T/n_elec/F*np.sum(s_i_j*C_i_l_ref/1000)\n",
    "\n",
    "\n",
    "    #Initial Liquid Porosity\n",
    "eps_elyte_sep_init = 0.39 #separator\n",
    "eps_elyte_cat_init = V_void_cat/V_C_bulk #cathode (Assuming negligible sulfur contribution to cathode volume)\n",
    "    \n",
    "    #Bruggeman Correlation\n",
    "b_sep = -0.5\n",
    "b_cat = -0.5\n",
    "b_carbon = -0.5\n",
    "tau_elyte_sep_init = eps_elyte_sep_init**b_sep\n",
    "tau_elyte_cat_init = eps_elyte_cat_init**b_cat\n",
    "tau_carbon = eps_carbon**b_carbon\n",
    "    \n",
    "    #Initial Volume Fractions [S8, Li2S8, Li2S4, Li2S2, Li2S]\n",
    "eps_i_cat_init = np.array([eps_S_init, 1e-6, 1e-6, 1e-6, 1e-7])\n",
    "eps_i_sep_init = np.array([1e-12, 1e-6, 1e-6, 1e-6, 1e-7])\n",
    "    \n",
    "    #Initial Cathode Surface Area (m2/m3)\n",
    "a_init = 1270.*rho_carbon_bulk*(eps_elyte_cat_init/eps_void_carbon)**1.5\n",
    "xi = 1.5\n",
    "\n",
    "#Cathode Electronic Conductivity\n",
    "sigma_C_pure = 1.28e5 #S/m\n",
    "sigma_C_eff = eps_carbon/tau_carbon*sigma_C_pure\n",
    "\n",
    "#Cathode Thickness (m)\n",
    "l_cat = V_S_n/M_i[0]*m_S/eps_S_init\n",
    "\n",
    "#Separator Thickness (m)\n",
    "l_sep = 25e-6\n",
    "\n",
    "#Cell Thickness (m)\n",
    "l_cell = l_cat + l_sep\n",
    "\n",
    "#x-discretization\n",
    "nodes = 50\n",
    "x = np.linspace(0, l_cell, nodes)\n",
    "dx = l_cell/nodes\n",
    "\n",
    "sep_cat_node = int(round(l_sep/dx)) + 1\n",
    "\n",
    "#Cutoff Voltage (V)\n",
    "V_cutoff = 1.5\n",
    "\n",
    "#Applied Current Density\n",
    "Q_theo = 1675 #Ah/kg_S\n",
    "C_rate_1 = Q_theo #A/kg_S\n",
    "C_rate = 0.1 #Applied C-rate\n",
    "applied_current = 10 #C_rate*C_rate_1*m_S #A/m2\n",
    "\n",
    "#Lithium stripping overpotential\n",
    "i_o_Li = 0.394 #A/m2\n",
    "C_Li = C_i_l_ref[0]\n",
    "C_Li_ref = C_i_l_ref[0]\n",
    "nu_Li = -1\n",
    "\n",
    "def BV_an(eta, i_o_Li, C_Li, C_Li_ref, nu_Li, alpha, F, R, T):\n",
    "    return i_o_Li*((C_Li/C_Li_ref)**nu_Li*np.exp(alpha*F*eta/R/T) - ((C_Li/C_Li_ref)**(-nu_Li))*np.exp(-alpha*F*eta/R/T)) \\\n",
    "    - applied_current\n",
    "\n",
    "eta_strip = fsolve(BV_an, 1, args=(i_o_Li, C_Li, C_Li_ref, nu_Li, alpha, F, R, T))\n",
    "\n",
    "\n",
    "dt = 1e-10 #s"
   ]
  },
  {
   "cell_type": "code",
   "execution_count": 14,
   "metadata": {},
   "outputs": [],
   "source": [
    "#Initialize ionic species concentration array\n",
    "C_i = np.zeros((8, len(x)))\n",
    "\n",
    "#Populate initial conditions\n",
    "for i in range(8):\n",
    "    C_i[i] = C_i_l_ref[i]\n",
    "\n",
    "dC_i_dx = np.zeros_like(C_i)\n",
    "D_i_eff = np.zeros_like(C_i)\n",
    "N_i = np.zeros_like(C_i)\n",
    "dN_i_dx = np.zeros_like(C_i)\n",
    "r_i = np.zeros_like(C_i)\n",
    "R_i = np.zeros_like(C_i)\n",
    "C_i_store = np.empty_like(C_i)"
   ]
  },
  {
   "cell_type": "code",
   "execution_count": 4,
   "metadata": {},
   "outputs": [],
   "source": [
    "def BV_cat(phi_cat_ref, i_o_i, C_i, C_i_l_ref, s_i_j, alpha, F, R, T, sep_cat_node, phi_strip):\n",
    "    eta_j = phi_cat_ref - phi_strip - U_half_ref\n",
    "    i_j_ref = i_o_i*((np.prod((C_i[:,sep_cat_node+1]/C_i_l_ref)**s_i_j))*np.exp(alpha*F*eta_j/R/T) - \\\n",
    "            (np.prod((C_i[:,sep_cat_node+1]/C_i_l_ref)**-s_i_j))*np.exp(-alpha*F*eta_j/R/T))\n",
    "    return np.sum(i_j_ref[1:])"
   ]
  },
  {
   "cell_type": "code",
   "execution_count": 5,
   "metadata": {},
   "outputs": [],
   "source": [
    "#Initialize electrolyte porosity array\n",
    "eps_elyte = np.zeros(len(x))\n",
    "\n",
    "#Populate initial conditions\n",
    "for i in range(nodes):\n",
    "    if x[i] < l_sep:\n",
    "        eps_elyte[i] = eps_elyte_sep_init\n",
    "    else:\n",
    "        eps_elyte[i] = eps_elyte_cat_init\n",
    "        \n",
    "deps_dt = np.zeros_like(eps_elyte)\n",
    "eps_step = np.zeros_like(eps_elyte)\n",
    "eps_elyte_store = np.empty(len(x))\n",
    "eps_step = np.empty_like(eps_elyte_store)"
   ]
  },
  {
   "cell_type": "code",
   "execution_count": 6,
   "metadata": {},
   "outputs": [],
   "source": [
    "#Initialize solid volume fraction array\n",
    "eps_k = np.zeros((5, len(x)))\n",
    "\n",
    "#Populate initial conditions\n",
    "for i in range(5):\n",
    "    for j in range(nodes):\n",
    "        if x[j] < l_sep:\n",
    "            eps_k[i,j] = eps_i_sep_init[i]\n",
    "        else:\n",
    "            eps_k[i,j] = eps_i_cat_init[i]\n",
    "\n",
    "R_prime_k = np.zeros_like(eps_k)\n",
    "deps_k_dt = np.zeros_like(eps_k)\n",
    "eps_k_store = np.empty_like(eps_k)"
   ]
  },
  {
   "cell_type": "code",
   "execution_count": 7,
   "metadata": {},
   "outputs": [],
   "source": [
    "#Initialize current array with initial guesses and boundary conditions\n",
    "##Row 0 -> solid phase\n",
    "##Row 1 -> electrolyte phase\n",
    "current = applied_current*np.ones((2, len(x)))\n",
    "current[0, :-1] = current[1,-1:] = 0\n",
    "\n",
    "for i in range (nodes-sep_cat_node):\n",
    "    current[0,sep_cat_node+i] = i/(nodes-sep_cat_node-1)*applied_current\n",
    "    current[1,sep_cat_node+i] = applied_current - current[0,sep_cat_node+i]\n",
    "\n",
    "#Electrolyte/Solid Current Derivative Arrays\n",
    "di_s_dx = np.zeros(len(x))\n",
    "di_e_dx = np.zeros(len(x))\n",
    "#di_e_dx[1,1] = 1\n",
    "\n",
    "i_store = np.empty((2,len(x),1))"
   ]
  },
  {
   "cell_type": "code",
   "execution_count": 8,
   "metadata": {},
   "outputs": [],
   "source": [
    "#Initialize potential array with initial guesses\n",
    "##Row 0 -> solid phase\n",
    "##Row 1 -> electrolyte phase\n",
    "phi = np.zeros((2, len(x)))\n",
    "phi_strip = 0 - eta_strip - U_half_ref[0]\n",
    "phi[1,1:] = phi_strip #Lithium stripping overpotential\n",
    "phi_cat_ref = fsolve(BV_cat, 2.5, args = (i_o_i, C_i, C_i_l_ref, s_i_j, alpha, F, R, T, sep_cat_node, phi_strip))\n",
    "\n",
    "for i in range (nodes-sep_cat_node-1):\n",
    "    phi[0,sep_cat_node+i+1] = phi_cat_ref*(1-0.0001*i) #This value comes from the zero-solid-current boundary condition\n",
    "\n",
    "#Electrolyte/Solid Potential Derivative Arrays\n",
    "dphi_s_dx = np.zeros(len(x))\n",
    "dphi_e_dx = np.zeros(len(x))\n",
    "\n",
    "phi_store = np.empty((2,len(x),1))"
   ]
  },
  {
   "cell_type": "code",
   "execution_count": 9,
   "metadata": {},
   "outputs": [],
   "source": [
    "#Initialize surface area array with initial values (m2/m3)\n",
    "a = np.ones(len(x))\n",
    "\n",
    "for i in range(nodes):\n",
    "    if x[i] > l_sep:\n",
    "        a[i] = a_init"
   ]
  },
  {
   "cell_type": "code",
   "execution_count": 10,
   "metadata": {},
   "outputs": [],
   "source": [
    "i_j = np.zeros([len(i_o_i), len(x)])\n",
    "i_j[0,0] = applied_current\n",
    "eta_j = np.zeros([len(i_o_i),len(x)])\n",
    "#j = nodes-1\n",
    "#for k in range(5): #Loop through 5 cathodic faradaic reactions\n",
    "#            eta_j[k+1,j] = phi[0,j] - phi[1,j] - U_half_ref[k+1] #Use [k+] to exclude lithium stripping reaction\n",
    "#            i_j[k+1] = i_o_i[k+1]*((np.prod((C_i[:,j]/C_i_l_ref)**s_i_j[k+1]))*np.exp(alpha*F*eta_j[k+1,j]/R/T) - \\\n",
    "#            (np.prod((C_i[:,j]/C_i_l_ref)**-s_i_j[k+1]))*np.exp(-alpha*F*eta_j[k+1,j]/R/T))\n",
    "#            i_sum = i_sum + i_j[k+1] #Add to the current sum counter\n",
    "            "
   ]
  },
  {
   "cell_type": "code",
   "execution_count": 11,
   "metadata": {},
   "outputs": [
    {
     "data": {
      "text/plain": [
       "(-3.035714285714286e-06, 6.375e-05)"
      ]
     },
     "execution_count": 11,
     "metadata": {},
     "output_type": "execute_result"
    },
    {
     "data": {
      "image/png": "[encoded data removed]",
      "text/plain": [
       "<Figure size 432x288 with 1 Axes>"
      ]
     },
     "metadata": {
      "needs_background": "light"
     },
     "output_type": "display_data"
    }
   ],
   "source": [
    "#fig, axs = plt.subplots(1,2)\n",
    "#axs[0].plot(x, current[0])\n",
    "#axs[0].plot(x, current[1])\n",
    "#axs[1].plot(x, phi[0])\n",
    "#axs[1].plot(x, phi[1])\n",
    "plt.plot(x,phi[1])\n",
    "plt.xlim()"
   ]
  },
  {
   "cell_type": "code",
   "execution_count": 13,
   "metadata": {},
   "outputs": [
    {
     "ename": "KeyboardInterrupt",
     "evalue": "",
     "output_type": "error",
     "traceback": [
      "\u001b[1;31m---------------------------------------------------------------------------\u001b[0m",
      "\u001b[1;31mKeyboardInterrupt\u001b[0m                         Traceback (most recent call last)",
      "\u001b[1;32m<ipython-input-13-b26585f30845>\u001b[0m in \u001b[0;36m<module>\u001b[1;34m\u001b[0m\n\u001b[0;32m     43\u001b[0m \u001b[1;33m\u001b[0m\u001b[0m\n\u001b[0;32m     44\u001b[0m             \u001b[1;31m##########################CONTINUE HERE################\u001b[0m\u001b[1;33m\u001b[0m\u001b[1;33m\u001b[0m\u001b[1;33m\u001b[0m\u001b[0m\n\u001b[1;32m---> 45\u001b[1;33m             \u001b[0mD_i_eff\u001b[0m\u001b[1;33m[\u001b[0m\u001b[1;33m:\u001b[0m\u001b[1;33m,\u001b[0m\u001b[0mj\u001b[0m\u001b[1;33m-\u001b[0m\u001b[1;36m1\u001b[0m\u001b[1;33m]\u001b[0m \u001b[1;33m=\u001b[0m \u001b[0meps_elyte\u001b[0m\u001b[1;33m[\u001b[0m\u001b[0mj\u001b[0m\u001b[1;33m-\u001b[0m\u001b[1;36m1\u001b[0m\u001b[1;33m]\u001b[0m\u001b[1;33m/\u001b[0m\u001b[0mtau_elyte_cat_init\u001b[0m\u001b[1;33m*\u001b[0m\u001b[0mD_i\u001b[0m\u001b[1;33m\u001b[0m\u001b[1;33m\u001b[0m\u001b[0m\n\u001b[0m\u001b[0;32m     46\u001b[0m             \u001b[0mdC_i_dx\u001b[0m\u001b[1;33m[\u001b[0m\u001b[1;33m:\u001b[0m\u001b[1;33m,\u001b[0m\u001b[0mj\u001b[0m\u001b[1;33m-\u001b[0m\u001b[1;36m1\u001b[0m\u001b[1;33m]\u001b[0m \u001b[1;33m=\u001b[0m \u001b[1;33m(\u001b[0m\u001b[0mC_i\u001b[0m\u001b[1;33m[\u001b[0m\u001b[1;33m:\u001b[0m\u001b[1;33m,\u001b[0m\u001b[0mj\u001b[0m\u001b[1;33m]\u001b[0m \u001b[1;33m-\u001b[0m \u001b[0mC_i\u001b[0m\u001b[1;33m[\u001b[0m\u001b[1;33m:\u001b[0m\u001b[1;33m,\u001b[0m\u001b[0mj\u001b[0m\u001b[1;33m-\u001b[0m\u001b[1;36m1\u001b[0m\u001b[1;33m]\u001b[0m\u001b[1;33m)\u001b[0m\u001b[1;33m/\u001b[0m\u001b[0mdx\u001b[0m\u001b[1;33m\u001b[0m\u001b[1;33m\u001b[0m\u001b[0m\n\u001b[0;32m     47\u001b[0m             \u001b[0md\u001b[0m \u001b[1;33m=\u001b[0m \u001b[1;33m-\u001b[0m\u001b[0mF\u001b[0m\u001b[1;33m*\u001b[0m\u001b[0mz_i\u001b[0m\u001b[1;33m*\u001b[0m\u001b[0mD_i_eff\u001b[0m\u001b[1;33m[\u001b[0m\u001b[1;33m:\u001b[0m\u001b[1;33m,\u001b[0m\u001b[0mj\u001b[0m\u001b[1;33m-\u001b[0m\u001b[1;36m1\u001b[0m\u001b[1;33m]\u001b[0m\u001b[1;33m*\u001b[0m\u001b[0meps_elyte\u001b[0m\u001b[1;33m[\u001b[0m\u001b[0mj\u001b[0m\u001b[1;33m-\u001b[0m\u001b[1;36m1\u001b[0m\u001b[1;33m]\u001b[0m\u001b[1;33m*\u001b[0m\u001b[0mdC_i_dx\u001b[0m\u001b[1;33m[\u001b[0m\u001b[1;33m:\u001b[0m\u001b[1;33m,\u001b[0m\u001b[0mj\u001b[0m\u001b[1;33m-\u001b[0m\u001b[1;36m1\u001b[0m\u001b[1;33m]\u001b[0m\u001b[1;33m\u001b[0m\u001b[1;33m\u001b[0m\u001b[0m\n",
      "\u001b[1;31mKeyboardInterrupt\u001b[0m: "
     ]
    }
   ],
   "source": [
    "t = 0\n",
    "t_store = np.zeros(1)\n",
    "#loop = True\n",
    "while t<60:\n",
    "    for k in range(500): #Iterate to converge on solution\n",
    "        #####Current block\n",
    "        for j in range(nodes-2, sep_cat_node+1, -1): #Loop backward through cathode location x\n",
    "            for k in range(5): #Loop through 5 cathodic faradaic reactions\n",
    "                eta_j[k+1,j+1] = phi[0,j+1] - phi[1,j+1] - U_half_ref[k+1] #Use [k+] to exclude lithium stripping reaction\n",
    "                i_j[k+1,j+1] = i_o_i[k+1]*((np.prod((C_i[:,j+1]/C_i_l_ref)**s_i_j[k+1]))*np.exp(alpha*F*eta_j[k+1,j+1]/R/T) - \\\n",
    "                (np.prod((C_i[:,j+1]/C_i_l_ref)**-s_i_j[k+1]))*np.exp(-alpha*F*eta_j[k+1,j+1]/R/T))\n",
    "            i_sum = np.sum(i_j[1:])#i_sum + i_j[k+1,j+1] #Add to the current sum counter\n",
    "            #print(i_sum)\n",
    "            di_e_dx[j+1] = a[j+1]*i_sum #Electrolyte current derivative\n",
    "            di_s_dx[j+1] = -di_e_dx[j+1] #Solid current derivative\n",
    "            for i in range(2): #Backward Finite Difference Calculation\n",
    "                if i == 0:    \n",
    "                    current[i,j] = current[i,j+1] - di_s_dx[j+1]*dx\n",
    "                else:\n",
    "                    current[i,j] = current[i,j+1] - di_e_dx[j+1]*dx\n",
    "            #####Potential Block\n",
    "        eta_strip = fsolve(BV_an, 0.3, args=(i_o_i[0], C_i[0,0], C_i_l_ref[0], nu_Li, alpha, F, R, T))\n",
    "        phi[1,j] = 0 - eta_strip - U_half_ref[0]\n",
    "        for j in range(2,sep_cat_node+2):\n",
    "            D_i_eff[:,j-1] = eps_elyte[j-1]/tau_elyte_sep_init*D_i\n",
    "            dC_i_dx[:,j-1] = (C_i[:,j] - C_i[:,j-1])/dx\n",
    "            d = -F*z_i*D_i_eff[:,j-1]*eps_elyte[j-1]*dC_i_dx[:,j-1]\n",
    "            d_sum = np.sum(d)\n",
    "        \n",
    "            e = F**2*z_i**2*eps_elyte[j-1]*D_i*C_i[:,j-1]/R/T\n",
    "            e_sum = np.sum(e)\n",
    "            #######################################################\n",
    "            dphi_e_dx[j-1] = (current[1,j-1] - d_sum)/-e_sum\n",
    "            phi[i,j] = phi[i,j-1] + dphi_e_dx[j-1]*dx\n",
    "        \n",
    "        phi_cat_ref = fsolve(BV_cat, phi_cat_ref, args = (i_o_i, C_i, C_i_l_ref, s_i_j, alpha, F, R, T, sep_cat_node, phi[1,sep_cat_node+1]))\n",
    "        phi[0,sep_cat_node+1] = phi_cat_ref\n",
    "        \n",
    "        for j in range(sep_cat_node+2, nodes): #Loop forward through cathode location x\n",
    "            dphi_s_dx[j-1] = -current[0,j-1]/sigma_C_eff #Solid potential derivative\n",
    "                #dphi_s_dx[-1] = -applied_current/sigma_C_eff #Boundary Condition\n",
    "            \n",
    "            \n",
    "            ##########################CONTINUE HERE################\n",
    "            D_i_eff[:,j-1] = eps_elyte[j-1]/tau_elyte_cat_init*D_i\n",
    "            dC_i_dx[:,j-1] = (C_i[:,j] - C_i[:,j-1])/dx\n",
    "            d = -F*z_i*D_i_eff[:,j-1]*eps_elyte[j-1]*dC_i_dx[:,j-1]\n",
    "            d_sum = np.sum(d)\n",
    "        \n",
    "            e = F**2*z_i**2*eps_elyte[j-1]*D_i*C_i[:,j-1]/R/T\n",
    "            e_sum = np.sum(e)\n",
    "            #######################################################\n",
    "            dphi_e_dx[j-1] = (current[1,j-1] - d_sum)/-e_sum ##Electrolyte potential derivativeReplace ones with sumA and sumB\n",
    "                #dphi_e_dx[-1] = 0 #Boundary Condition\n",
    "            for i in range(2): #Forward Finite Difference Calculation\n",
    "                if i == 0: \n",
    "                    phi[i,j] = phi[i,j-1] + dphi_s_dx[j-1]*dx\n",
    "                else:\n",
    "                    phi[i,j] = phi[i,j-1] + dphi_e_dx[j-1]*dx\n",
    "    \n",
    "    for i in range(8):\n",
    "        if i == 0:\n",
    "            N_i[i,0] = applied_current/n_elec/F\n",
    "            N_i[i,1:-2] = -D_i_eff[i,1:-2]*eps_elyte[1:-2]*dC_i_dx[i,1:-2] - eps_elyte[1:-2]*z_i[i]*D_i_eff[i,1:-2]*F*C_i[i,1:-2]/R/T*dphi_e_dx[1:-2]\n",
    "            N_i[i,-1] = 0\n",
    "        else:\n",
    "            N_i[i,0] = 0\n",
    "            N_i[i,1:-2] = -D_i_eff[i,1:-2]*eps_elyte[1:-2]*dC_i_dx[i,1:-2] - eps_elyte[1:-2]*z_i[i]*D_i_eff[i,1:-2]*F*C_i[i,1:-2]/R/T*dphi_e_dx[1:-2]\n",
    "            N_i[i,-1] = 0\n",
    "            \n",
    "    for j in range(nodes):\n",
    "        if j == 0:\n",
    "            dN_i_dx[:,j] = (N_i[:,j+1] - N_i[:,j])/dx\n",
    "        elif j < nodes-1:\n",
    "            dN_i_dx[:,j] = (N_i[:,j+1] - N_i[:,j-1])/2/dx\n",
    "        elif j == nodes-1:\n",
    "            dN_i_dx[:,j] = (N_i[:,j] - N_i[:,j-1])/dx\n",
    "    \n",
    "    for i in range (8):\n",
    "        for j in range(nodes):\n",
    "            r_i[i,j] = -a[j]*np.sum(s_i_j[:,i]*i_j[:,j])/n_elec/F\n",
    "    \n",
    "    for k in range(5):\n",
    "        for j in range(nodes):\n",
    "            R_prime_k[k,j] = k_precip[k]*eps_k[k,j]*(np.prod(C_i[:,j]**gamma_i_k[:,k]) - K_sol[k])\n",
    "    \n",
    "    for i in range (8):\n",
    "        for j in range(nodes):\n",
    "            R_i[i,j] = np.sum(gamma_i_k[i,:]*R_prime_k[:,j])\n",
    "    \n",
    "    for j in range(nodes):\n",
    "        deps_dt[j] = -np.sum(V_i*R_prime_k[:,j])\n",
    "        deps_k_dt[:,j] = V_i*R_prime_k[:,j]\n",
    "        \n",
    "    eps_elyte = eps_elyte + deps_dt*dt\n",
    "    eps_k = eps_k + deps_k_dt*dt\n",
    "    \n",
    "    depsC_dt = -dN_i_dx + r_i - R_i\n",
    "    C_i = (eps_elyte*C_i + depsC_dt*dt)/eps_elyte\n",
    "    \n",
    "    eps_elyte_store = np.vstack((eps_elyte_store, eps_elyte))\n",
    "    eps_k_store = np.dstack((eps_k_store, eps_k))\n",
    "    C_i_store = np.dstack((C_i_store, C_i))\n",
    "    \n",
    "    phi_store = np.dstack((phi_store, phi))\n",
    "    i_store = np.dstack((i_store, current))\n",
    "    \n",
    "    t = t + dt\n",
    "    t_store = np.hstack((t_store,t))\n",
    "    \n",
    "    #if phi_store[0,-1,-1] > V_cutoff:\n",
    "        #loop == True\n",
    "    #else:\n",
    "        #loop == False\n",
    "\n",
    "#print(d_sum)\n",
    "#plt.plot(x[sep_cat_node+2:],current[0,sep_cat_node+2:])\n",
    "#plt.plot(x[sep_cat_node+2:],current[1,sep_cat_node+2:])\n",
    "#plt.show\n",
    "#plt.plot(x,di_e_dx)\n",
    "#plt.plot(x,di_s_dx)\n",
    "#plt.plot(x,dphi_e_dx)\n",
    "#plt.plot(x,dphi_s_dx)\n",
    "#plt.plot(x[sep_cat_node+1:],phi[0,sep_cat_node+1:])\n",
    "#plt.plot(x[1:],phi[1,1:])\n",
    "#print(current)\n"
   ]
  },
  {
   "cell_type": "code",
   "execution_count": 15,
   "metadata": {},
   "outputs": [
    {
     "data": {
      "text/plain": [
       "[<matplotlib.lines.Line2D at 0x24cad42cd30>]"
      ]
     },
     "execution_count": 15,
     "metadata": {},
     "output_type": "execute_result"
    },
    {
     "data": {
      "image/png": "[encoded data removed]",
      "text/plain": [
       "<Figure size 432x288 with 2 Axes>"
      ]
     },
     "metadata": {
      "needs_background": "light"
     },
     "output_type": "display_data"
    }
   ],
   "source": [
    "num=-1\n",
    "fig, axs = plt.subplots(1,2)\n",
    "axs[0].plot(x, i_store[0,:,num])\n",
    "axs[0].plot(x, i_store[1,:,num])\n",
    "axs[1].plot(x, phi_store[0,:,num])\n",
    "axs[1].plot(x, phi_store[1,:,num])"
   ]
  },
  {
   "cell_type": "code",
   "execution_count": 16,
   "metadata": {},
   "outputs": [
    {
     "data": {
      "text/plain": [
       "[<matplotlib.lines.Line2D at 0x24cad5715f8>]"
      ]
     },
     "execution_count": 16,
     "metadata": {},
     "output_type": "execute_result"
    },
    {
     "data": {
      "image/png": "[encoded data removed]",
      "text/plain": [
       "<Figure size 432x288 with 1 Axes>"
      ]
     },
     "metadata": {
      "needs_background": "light"
     },
     "output_type": "display_data"
    }
   ],
   "source": [
    "plt.plot(t_store[1:],phi_store[0,-1,1:])"
   ]
  },
  {
   "cell_type": "code",
   "execution_count": null,
   "metadata": {},
   "outputs": [],
   "source": []
  }
 ],
 "metadata": {
  "kernelspec": {
   "display_name": "Python 3",
   "language": "python",
   "name": "python3"
  },
  "language_info": {
   "codemirror_mode": {
    "name": "ipython",
    "version": 3
   },
   "file_extension": ".py",
   "mimetype": "text/x-python",
   "name": "python",
   "nbconvert_exporter": "python",
   "pygments_lexer": "ipython3",
   "version": "3.7.3"
  }
 },
 "nbformat": 4,
 "nbformat_minor": 2
}
