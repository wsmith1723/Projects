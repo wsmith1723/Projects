{
 "cells": [
  {
   "cell_type": "code",
   "execution_count": 43,
   "metadata": {},
   "outputs": [],
   "source": [
    "import numpy as np\n",
    "import matplotlib.pyplot as plt\n",
    "from scipy.optimize import fsolve"
   ]
  },
  {
   "cell_type": "code",
   "execution_count": 44,
   "metadata": {},
   "outputs": [
    {
     "name": "stdout",
     "output_type": "stream",
     "text": [
      "[2.67942012e-05 2.44996413e+00 2.45008921e+00 2.45043121e+00\n",
      " 2.44987060e+00 2.45001122e+00]\n",
      "3.821428571428572e-06\n"
     ]
    }
   ],
   "source": [
    "#====Physical Parameters====\n",
    "#Temperature (K)\n",
    "T = 25+273\n",
    "R = 8.314 #Gas Constant (J/mol/K)\n",
    "F = 96485 #Faraday Constant (C/mol)\n",
    "    \n",
    "#====Cathode Materials Physical Parameters====\n",
    "#Molar Volume (m3/mol) [S8, Li2S8, Li2S4, Li2S2, Li2S]\n",
    "V_i = np.array([1.239e-4, 1.361e-4, 7.415e-5, 4.317e-5, 2.768e-5])\n",
    "    \n",
    "#Material Density (kg/m3)\n",
    "rho_carbon_true = 2000 \n",
    "rho_carbon_bulk = 120 #Typical of high porosity Ketjen black 120\n",
    "    \n",
    "    #Porosity of carbon support\n",
    "eps_void_carbon = 1 - rho_carbon_bulk/rho_carbon_true\n",
    "#eps_carbon = 1 - eps_void_carbon\n",
    "    \n",
    "    #====Electrolyte Physical Parameters====\n",
    "    #Species charge [Li^+, S8, S8^2-, S6^2-, S4^2-, S2^2-, S^2-, A^-]\n",
    "z_i = np.array([1, 0, -2, -2, -2, -2, -2, -1])\n",
    "    \n",
    "    #Species Diffusivity (m2/s) [Li^+, S8, S8^2-, S6^2-, S4^2-, S2^2-, S^2-, A^-]\n",
    "D_i = np.array([1e-10, 1e-9, 6e-10, 6e-10, 1e-10, 1e-10, 1e-10, 4e-10])\n",
    "    \n",
    "    #====Initial Cathode Dry Composition====\n",
    "w_S = 0.7 #Mass Fraction Sulfur \n",
    "mg_S_cm2 = 10 #Areal Mass Loading Sulfur (mg/cm2)\n",
    "m_S = mg_S_cm2/10**6*100**2 #Areal sulfur mass loading (kg/m2)\n",
    "    #Mass Fraction [S8, C]\n",
    "w_i = np.array([w_S, 1 - w_S])\n",
    "    #Molar mass (kg/mol)\n",
    "M_i = np.array([0.25648, 0.012011])\n",
    "    #Moles at 1kg basis (mol)\n",
    "n_i_dry = w_i/M_i\n",
    "    #Molar volumes (m3/mol) \n",
    "V_S_n = 1.239e-4\n",
    "V_C_n_bulk = M_i[1]/rho_carbon_bulk\n",
    "V_C_n_true = M_i[1]/rho_carbon_true\n",
    "    #Volumes at 1 kg basis (m3)\n",
    "V_S = V_S_n*n_i_dry[0]\n",
    "V_C_bulk = V_C_n_bulk*n_i_dry[1]\n",
    "V_C_true = V_C_n_true*n_i_dry[1]\n",
    "V_void_C = V_C_bulk*eps_void_carbon\n",
    "V_void_cat = V_void_C - V_S\n",
    "    #Initial Volume Fraction of Sulfur\n",
    "eps_S_init = V_S/V_C_bulk #Approximate. Valid until ~95% Sulfur loading.\n",
    "eps_carbon = V_C_true/V_C_bulk\n",
    "    \n",
    "    #====Reaction Parameters====\n",
    "    #Butler-Volmer Parameters\n",
    "i_o_i = np.array([0.394, 1.972, 0.019, 0.019, 1.97e-4, 1.97e-4])\n",
    "alpha = 0.5\n",
    "n_elec = 1\n",
    "U_half = np.array([0.0, 2.39, 2.37, 2.24, 2.04, 2.01])\n",
    "\n",
    "#Stoichiometric coefficients, s_i_j of species i in reaction j\n",
    "s_i_j = np.array([[-1,0,0,0,0,0,0,0],\n",
    "                 [0, -1/2,1/2,0,0,0,0,0],\n",
    "                 [0,0,-3/2,2,0,0,0,0],\n",
    "                 [0,0,0,-1,3/2,0,0,0],\n",
    "                 [0,0,0,0,-1/2,1,0,0],\n",
    "                 [0,0,0,0,0,-1/2,1,0]])\n",
    "\n",
    "    #Precipitation Parameters [S8, Li2S8, Li2S4, Li2S2, Li2S]\n",
    "k_precip = np.array([1, 1e-4, 9.98e-5, 9.98e-5, 27.5])\n",
    "K_sol = np.array([19, 38.09, 11.26, 5.1e-3, 3.0e-5])\n",
    "C_i_k_ref = np.array([1/V_S_n, 1e-20, 1e-20, 1e-20, 1e-20])\n",
    "    \n",
    "    #====Initial Conditions====\n",
    "    #Reference (Initial) Concentrations (mol/m3) [Li^+, S8, S8^2-, S6^2-, S4^2-, S2^2-, S^2-, A^-]\n",
    "C_i_l_ref = np.array([1001.0440010474534, 19.0, 0.178, 0.324, 0.020, 5.229e-7, 8.267e-10, 1000.0])\n",
    "\n",
    "    #Reference Half Cell Potentials\n",
    "U_half_ref = np.zeros(6)\n",
    "for j in range(6):\n",
    "    U_half_ref[j] = U_half[j] - R*T/n_elec/F*np.sum(s_i_j[j]*np.log(C_i_l_ref/1000))\n",
    "print(U_half_ref)\n",
    "\n",
    "    #Initial Liquid Porosity\n",
    "eps_elyte_sep_init = 0.39 #separator\n",
    "eps_elyte_cat_init = V_void_cat/V_C_bulk #cathode (Assuming negligible sulfur contribution to cathode volume)\n",
    "    \n",
    "    #Bruggeman Correlation\n",
    "b_sep = -0.5\n",
    "b_cat = -0.5\n",
    "b_carbon = -0.5\n",
    "tau_elyte_sep_init = eps_elyte_sep_init**b_sep\n",
    "tau_elyte_cat_init = eps_elyte_cat_init**b_cat\n",
    "tau_carbon = eps_carbon**b_carbon\n",
    "    \n",
    "    #Initial Volume Fractions [S8, Li2S8, Li2S4, Li2S2, Li2S]\n",
    "eps_i_cat_init = np.array([eps_S_init, 1e-6, 1e-6, 1e-6, 1e-7])\n",
    "eps_i_sep_init = np.array([1e-12, 1e-6, 1e-6, 1e-6, 1e-7])\n",
    "    \n",
    "    #Initial Cathode Surface Area (m2/m3)\n",
    "a_init = 1270.*rho_carbon_bulk*(eps_elyte_cat_init/eps_void_carbon)**1.5\n",
    "xi = 1.5\n",
    "\n",
    "#Cathode Electronic Conductivity\n",
    "sigma_C_eff = 1 #S/m\n",
    "\n",
    "#Cathode Thickness (m)\n",
    "l_cat = V_S_n/M_i[0]*m_S/eps_S_init\n",
    "\n",
    "#Separator Thickness (m)\n",
    "l_sep = 25e-6\n",
    "\n",
    "#Cell Thickness (m)\n",
    "l_cell = l_cat + l_sep\n",
    "\n",
    "#x-discretization\n",
    "nodes = 100\n",
    "x = np.linspace(0, l_cell, nodes)\n",
    "dx = l_cell/nodes\n",
    "\n",
    "sep_cat_node = int(round(l_sep/dx)) + 1\n",
    "\n",
    "#Cutoff Voltage (V)\n",
    "V_cutoff = 1.5\n",
    "\n",
    "#Applied Current Density\n",
    "Q_theo = 1675 #Ah/kg_S\n",
    "C_rate_1 = Q_theo #A/kg_S\n",
    "C_rate = 0.1 #Applied C-rate\n",
    "applied_current = 1 #C_rate*C_rate_1*m_S #A/m2\n",
    "\n",
    "#Lithium stripping overpotential\n",
    "i_o_Li = 0.394 #A/m2\n",
    "C_Li = C_i_l_ref[0]\n",
    "C_Li_ref = C_i_l_ref[0]\n",
    "nu_Li = -1\n",
    "\n",
    "def BV_an(eta, i_o_Li, C_Li, C_Li_ref, nu_Li, alpha, F, R, T):\n",
    "    n = i_o_Li*((C_Li/C_Li_ref)**nu_Li*np.exp(alpha*F*eta/R/T) - ((C_Li/C_Li_ref)**(-nu_Li))*np.exp(-alpha*F*eta/R/T)) \\\n",
    "    - applied_current\n",
    "    return n\n",
    "\n",
    "eta_strip = fsolve(BV_an, 1, args=(i_o_Li, C_Li, C_Li_ref, nu_Li, alpha, F, R, T))\n",
    "print(dx)"
   ]
  },
  {
   "cell_type": "code",
   "execution_count": 45,
   "metadata": {},
   "outputs": [],
   "source": [
    "#Initialize ionic species concentration array\n",
    "C_i = np.zeros((8, len(x)))\n",
    "\n",
    "#Populate initial conditions\n",
    "for i in range(8):\n",
    "    C_i[i] = C_i_l_ref[i]\n",
    "    "
   ]
  },
  {
   "cell_type": "code",
   "execution_count": 46,
   "metadata": {},
   "outputs": [],
   "source": [
    "def BV_cat(phi_cat_ref, i_o_i, C_i, C_i_l_ref, s_i_j, alpha, F, R, T, sep_cat_node, phi_strip, U_half_ref):\n",
    "    eta_j = phi_cat_ref - phi_strip - U_half_ref\n",
    "    i_j_ref = i_o_i*((np.prod((C_i[:,sep_cat_node+1]/C_i_l_ref)**s_i_j))*np.exp(alpha*F*eta_j/R/T) - \\\n",
    "            (np.prod((C_i[:,sep_cat_node+1]/C_i_l_ref)**-s_i_j))*np.exp(-alpha*F*eta_j/R/T))\n",
    "    h = np.sum(i_j_ref[1:])\n",
    "    return h"
   ]
  },
  {
   "cell_type": "code",
   "execution_count": 47,
   "metadata": {},
   "outputs": [],
   "source": [
    "#phi_cat_ref = fsolve(BV_cat, 2, args = (i_o_i, C_i, C_i_l_ref, s_i_j, alpha, F, R, T, sep_cat_node, phi[1,sep_cat_node+1], \\\n",
    "                                            #U_half_ref))\n",
    "#h = BV_cat(2.0, i_o_i, C_i, C_i_l_ref, s_i_j, alpha, F, R, T, sep_cat_node, phi[1,sep_cat_node+1], U_half_ref)\n",
    "\n",
    "#print(h)"
   ]
  },
  {
   "cell_type": "code",
   "execution_count": 48,
   "metadata": {},
   "outputs": [],
   "source": [
    "#Initialize electrolyte porosity array\n",
    "eps_elyte = np.zeros(len(x))\n",
    "\n",
    "#Populate initial conditions\n",
    "for i in range(nodes):\n",
    "    if x[i] < l_sep:\n",
    "        eps_elyte[i] = eps_elyte_sep_init\n",
    "    else:\n",
    "        eps_elyte[i] = eps_elyte_cat_init\n",
    "     "
   ]
  },
  {
   "cell_type": "code",
   "execution_count": 49,
   "metadata": {},
   "outputs": [],
   "source": [
    "#Initialize solid volume fraction array\n",
    "eps_k = np.zeros((5, len(x)))\n",
    "\n",
    "#Populate initial conditions\n",
    "for i in range(5):\n",
    "    for j in range(nodes):\n",
    "        if x[j] < l_sep:\n",
    "            eps_k[i,j] = eps_i_sep_init[i]\n",
    "        else:\n",
    "            eps_k[i,j] = eps_i_cat_init[i]\n",
    "            "
   ]
  },
  {
   "cell_type": "code",
   "execution_count": 50,
   "metadata": {},
   "outputs": [
    {
     "name": "stdout",
     "output_type": "stream",
     "text": [
      "[[0.         0.         0.         0.         0.         0.\n",
      "  0.         0.         0.         0.         0.02197802 0.03296703\n",
      "  0.04395604 0.05494505 0.06593407 0.07692308 0.08791209 0.0989011\n",
      "  0.10989011 0.12087912 0.13186813 0.14285714 0.15384615 0.16483516\n",
      "  0.17582418 0.18681319 0.1978022  0.20879121 0.21978022 0.23076923\n",
      "  0.24175824 0.25274725 0.26373626 0.27472527 0.28571429 0.2967033\n",
      "  0.30769231 0.31868132 0.32967033 0.34065934 0.35164835 0.36263736\n",
      "  0.37362637 0.38461538 0.3956044  0.40659341 0.41758242 0.42857143\n",
      "  0.43956044 0.45054945 0.46153846 0.47252747 0.48351648 0.49450549\n",
      "  0.50549451 0.51648352 0.52747253 0.53846154 0.54945055 0.56043956\n",
      "  0.57142857 0.58241758 0.59340659 0.6043956  0.61538462 0.62637363\n",
      "  0.63736264 0.64835165 0.65934066 0.67032967 0.68131868 0.69230769\n",
      "  0.7032967  0.71428571 0.72527473 0.73626374 0.74725275 0.75824176\n",
      "  0.76923077 0.78021978 0.79120879 0.8021978  0.81318681 0.82417582\n",
      "  0.83516484 0.84615385 0.85714286 0.86813187 0.87912088 0.89010989\n",
      "  0.9010989  0.91208791 0.92307692 0.93406593 0.94505495 0.95604396\n",
      "  0.96703297 0.97802198 0.98901099 1.        ]\n",
      " [1.         1.         1.         1.         1.         1.\n",
      "  1.         1.         1.         1.         0.97802198 0.96703297\n",
      "  0.95604396 0.94505495 0.93406593 0.92307692 0.91208791 0.9010989\n",
      "  0.89010989 0.87912088 0.86813187 0.85714286 0.84615385 0.83516484\n",
      "  0.82417582 0.81318681 0.8021978  0.79120879 0.78021978 0.76923077\n",
      "  0.75824176 0.74725275 0.73626374 0.72527473 0.71428571 0.7032967\n",
      "  0.69230769 0.68131868 0.67032967 0.65934066 0.64835165 0.63736264\n",
      "  0.62637363 0.61538462 0.6043956  0.59340659 0.58241758 0.57142857\n",
      "  0.56043956 0.54945055 0.53846154 0.52747253 0.51648352 0.50549451\n",
      "  0.49450549 0.48351648 0.47252747 0.46153846 0.45054945 0.43956044\n",
      "  0.42857143 0.41758242 0.40659341 0.3956044  0.38461538 0.37362637\n",
      "  0.36263736 0.35164835 0.34065934 0.32967033 0.31868132 0.30769231\n",
      "  0.2967033  0.28571429 0.27472527 0.26373626 0.25274725 0.24175824\n",
      "  0.23076923 0.21978022 0.20879121 0.1978022  0.18681319 0.17582418\n",
      "  0.16483516 0.15384615 0.14285714 0.13186813 0.12087912 0.10989011\n",
      "  0.0989011  0.08791209 0.07692308 0.06593407 0.05494505 0.04395604\n",
      "  0.03296703 0.02197802 0.01098901 0.        ]]\n"
     ]
    }
   ],
   "source": [
    "#Initialize current array with initial guesses and boundary conditions\n",
    "##Row 0 -> solid phase\n",
    "##Row 1 -> electrolyte phase\n",
    "current = applied_current*np.ones((2, len(x)))\n",
    "current[0, :-1] = current[1,-1:] = 0\n",
    "\n",
    "for i in range (nodes-2, sep_cat_node+1, -1):\n",
    "    current[0,i] = current[0,i+1] - applied_current/(nodes-sep_cat_node-1)\n",
    "    current[1,i] = applied_current - current[0,i]\n",
    "\n",
    "#Electrolyte/Solid Current Derivative Arrays\n",
    "di_s_dx = np.zeros(len(x))\n",
    "di_e_dx = np.zeros(len(x))\n",
    "#di_e_dx[1,1] = 1\n",
    "print(current)"
   ]
  },
  {
   "cell_type": "code",
   "execution_count": 52,
   "metadata": {},
   "outputs": [
    {
     "name": "stdout",
     "output_type": "stream",
     "text": [
      "[[ 0.          0.          0.          0.          0.          0.\n",
      "   0.          0.          0.          2.39553421  2.39529466  2.3950551\n",
      "   2.39481555  2.394576    2.39433644  2.39409689  2.39385734  2.39361778\n",
      "   2.39337823  2.39313868  2.39289912  2.39265957  2.39242002  2.39218046\n",
      "   2.39194091  2.39170136  2.3914618   2.39122225  2.3909827   2.39074314\n",
      "   2.39050359  2.39026403  2.39002448  2.38978493  2.38954537  2.38930582\n",
      "   2.38906627  2.38882671  2.38858716  2.38834761  2.38810805  2.3878685\n",
      "   2.38762895  2.38738939  2.38714984  2.38691029  2.38667073  2.38643118\n",
      "   2.38619163  2.38595207  2.38571252  2.38547297  2.38523341  2.38499386\n",
      "   2.38475431  2.38451475  2.3842752   2.38403565  2.38379609  2.38355654\n",
      "   2.38331699  2.38307743  2.38283788  2.38259833  2.38235877  2.38211922\n",
      "   2.38187967  2.38164011  2.38140056  2.381161    2.38092145  2.3806819\n",
      "   2.38044234  2.38020279  2.37996324  2.37972368  2.37948413  2.37924458\n",
      "   2.37900502  2.37876547  2.37852592  2.37828636  2.37804681  2.37780726\n",
      "   2.3775677   2.37732815  2.3770886   2.37684904  2.37660949  2.37636994\n",
      "   2.37613038  2.37589083  2.37565128  2.37541172  2.37517217  2.37493262\n",
      "   2.37469306  2.37445351  2.37421396  2.3739744 ]\n",
      " [-0.05443551 -0.05443551 -0.05443551 -0.05443551 -0.05443551 -0.05443551\n",
      "  -0.05443551 -0.05443551 -0.05443551 -0.05443551 -0.05443551 -0.05443551\n",
      "  -0.05443551 -0.05443551 -0.05443551 -0.05443551 -0.05443551 -0.05443551\n",
      "  -0.05443551 -0.05443551 -0.05443551 -0.05443551 -0.05443551 -0.05443551\n",
      "  -0.05443551 -0.05443551 -0.05443551 -0.05443551 -0.05443551 -0.05443551\n",
      "  -0.05443551 -0.05443551 -0.05443551 -0.05443551 -0.05443551 -0.05443551\n",
      "  -0.05443551 -0.05443551 -0.05443551 -0.05443551 -0.05443551 -0.05443551\n",
      "  -0.05443551 -0.05443551 -0.05443551 -0.05443551 -0.05443551 -0.05443551\n",
      "  -0.05443551 -0.05443551 -0.05443551 -0.05443551 -0.05443551 -0.05443551\n",
      "  -0.05443551 -0.05443551 -0.05443551 -0.05443551 -0.05443551 -0.05443551\n",
      "  -0.05443551 -0.05443551 -0.05443551 -0.05443551 -0.05443551 -0.05443551\n",
      "  -0.05443551 -0.05443551 -0.05443551 -0.05443551 -0.05443551 -0.05443551\n",
      "  -0.05443551 -0.05443551 -0.05443551 -0.05443551 -0.05443551 -0.05443551\n",
      "  -0.05443551 -0.05443551 -0.05443551 -0.05443551 -0.05443551 -0.05443551\n",
      "  -0.05443551 -0.05443551 -0.05443551 -0.05443551 -0.05443551 -0.05443551\n",
      "  -0.05443551 -0.05443551 -0.05443551 -0.05443551 -0.05443551 -0.05443551\n",
      "  -0.05443551 -0.05443551 -0.05443551 -0.05443551]]\n"
     ]
    }
   ],
   "source": [
    "#Initialize potential array with initial guesses\n",
    "##Row 0 -> solid phase\n",
    "##Row 1 -> electrolyte phase\n",
    "phi = np.zeros((2, len(x)))\n",
    "phi_strip = 0 - eta_strip - U_half_ref[0]\n",
    "phi[1,0:] = phi_strip #Lithium stripping overpotential\n",
    "phi_cat_ref = fsolve(BV_cat, 2.5, args = (i_o_i, C_i, C_i_l_ref, s_i_j, alpha, F, R, T, sep_cat_node, phi_strip, U_half_ref))\n",
    "\n",
    "for i in range (nodes-sep_cat_node-1):\n",
    "    phi[0,sep_cat_node+i+1] = phi_cat_ref*(1-0.0001*i) #This value comes from the zero-solid-current boundary condition\n",
    "\n",
    "#Electrolyte/Solid Potential Derivative Arrays\n",
    "dphi_s_dx = np.zeros(len(x))\n",
    "dphi_e_dx = np.zeros(len(x))\n",
    "print(phi)"
   ]
  },
  {
   "cell_type": "code",
   "execution_count": 29,
   "metadata": {},
   "outputs": [],
   "source": [
    "#Initialize surface area array with initial values (m2/m3)\n",
    "a = np.ones(len(x))\n",
    "\n",
    "for i in range(nodes):\n",
    "    if x[i] > l_sep:\n",
    "        a[i] = a_init"
   ]
  },
  {
   "cell_type": "code",
   "execution_count": 30,
   "metadata": {},
   "outputs": [],
   "source": [
    "i_j = np.zeros_like(i_o_i)\n",
    "eta_j = np.zeros([len(i_o_i),len(x)])\n",
    "#j = nodes-1\n",
    "#for k in range(5): #Loop through 5 cathodic faradaic reactions\n",
    "#            eta_j[k+1,j] = phi[0,j] - phi[1,j] - U_half_ref[k+1] #Use [k+] to exclude lithium stripping reaction\n",
    "#            i_j[k+1] = i_o_i[k+1]*((np.prod((C_i[:,j]/C_i_l_ref)**s_i_j[k+1]))*np.exp(alpha*F*eta_j[k+1,j]/R/T) - \\\n",
    "#            (np.prod((C_i[:,j]/C_i_l_ref)**-s_i_j[k+1]))*np.exp(-alpha*F*eta_j[k+1,j]/R/T))\n",
    "#            i_sum = i_sum + i_j[k+1] #Add to the current sum counter\n",
    "            \n",
    "#print(eta_j)"
   ]
  },
  {
   "cell_type": "code",
   "execution_count": 31,
   "metadata": {},
   "outputs": [
    {
     "data": {
      "text/plain": [
       "[<matplotlib.lines.Line2D at 0x1e01ee10dd8>]"
      ]
     },
     "execution_count": 31,
     "metadata": {},
     "output_type": "execute_result"
    },
    {
     "data": {
      "image/png": "[encoded data removed]",
      "text/plain": [
       "<Figure size 432x288 with 2 Axes>"
      ]
     },
     "metadata": {
      "needs_background": "light"
     },
     "output_type": "display_data"
    }
   ],
   "source": [
    "fig, axs = plt.subplots(1,2)\n",
    "axs[0].plot(x, current[0])\n",
    "axs[0].plot(x, current[1])\n",
    "axs[1].plot(x, phi[0])\n",
    "axs[1].plot(x, phi[1])"
   ]
  },
  {
   "cell_type": "code",
   "execution_count": 38,
   "metadata": {},
   "outputs": [
    {
     "data": {
      "text/plain": [
       "[<matplotlib.lines.Line2D at 0x1e01ecb0a58>]"
      ]
     },
     "execution_count": 38,
     "metadata": {},
     "output_type": "execute_result"
    },
    {
     "data": {
      "image/png": "[encoded data removed]",
      "text/plain": [
       "<Figure size 432x288 with 2 Axes>"
      ]
     },
     "metadata": {
      "needs_background": "light"
     },
     "output_type": "display_data"
    }
   ],
   "source": [
    "for k in range(100): #Iterate to converge on solution\n",
    "    #####Current block\n",
    "    for j in range(nodes-2, sep_cat_node+1, -1): #Loop backward through cathode location x\n",
    "        #a[j] = a_init #Calculate the cathode surface area\n",
    "        #i_sum = 0 #Set faradaic current sum counter\n",
    "        for k in range(5): #Loop through 5 cathodic faradaic reactions\n",
    "            eta_j[k+1,j+1] = phi[0,j+1] - phi[1,j+1] - U_half_ref[k+1] #Use [k+] to exclude lithium stripping reaction\n",
    "            i_j[k+1] = i_o_i[k+1]*((np.prod((C_i[:,j+1]/C_i_l_ref)**s_i_j[k+1]))*np.exp(alpha*F*eta_j[k+1,j+1]/R/T) - \\\n",
    "            (np.prod((C_i[:,j+1]/C_i_l_ref)**-s_i_j[k+1]))*np.exp(-alpha*F*eta_j[k+1,j+1]/R/T))\n",
    "        i_sum = np.sum(i_j[1:]) #Add to the current sum counter\n",
    "        di_e_dx[j+1] = a[j+1]*i_sum #Electrolyte current derivative\n",
    "        di_s_dx[j+1] = -di_e_dx[j+1] #Solid current derivative  \n",
    "        current[0,j] = current[0,j+1] - di_s_dx[j+1]*dx\n",
    "        current[1,j] = current[1,j+1] - di_e_dx[j+1]*dx\n",
    "        #####Potential Block\n",
    "    eta_strip = fsolve(BV_an, 0.3, args=(i_o_i[0], C_i[0,0], C_i_l_ref[0], nu_Li, alpha, F, R, T))\n",
    "    phi[1,0] = 0 - eta_strip - U_half_ref[0]\n",
    "    for j in range(1,sep_cat_node+2):\n",
    "        D_i_eff = eps_elyte[j-1]/tau_elyte_sep_init*D_i\n",
    "        dC_i_dx = (C_i[:,j] - C_i[:,j-1])/dx\n",
    "        d = -F*z_i*D_i_eff*eps_elyte[j-1]*dC_i_dx\n",
    "        d_sum = np.sum(d)\n",
    "        \n",
    "        e = F**2*z_i**2*eps_elyte[j-1]*D_i*C_i[:,j-1]/R/T\n",
    "        e_sum = np.sum(e)\n",
    "        dphi_e_dx[j-1] = (current[1,j-1] - d_sum)/-e_sum\n",
    "        phi[1,j] = phi[1,j-1] + dphi_e_dx[j-1]*dx\n",
    "    \n",
    "    phi_cat_ref = fsolve(BV_cat, 2, args = (i_o_i, C_i, C_i_l_ref, s_i_j, alpha, F, R, T, sep_cat_node, phi[1,sep_cat_node+1], \\\n",
    "                                            U_half_ref))\n",
    "    \n",
    "    phi[0,sep_cat_node+1] = phi_cat_ref\n",
    "    \n",
    "    for j in range(sep_cat_node+2, nodes): #Loop forward through cathode location x\n",
    "        dphi_s_dx[j-1] = -current[0,j-1]/sigma_C_eff #Solid potential derivative\n",
    "\n",
    "        D_i_eff = eps_elyte[j-1]/tau_elyte_cat_init*D_i\n",
    "        dC_i_dx = (C_i[:,j] - C_i[:,j-1])/dx\n",
    "        d = -F*z_i*D_i_eff*eps_elyte[j-1]*dC_i_dx\n",
    "        d_sum = np.sum(d)\n",
    "        e = F**2*z_i**2*eps_elyte[j-1]*D_i*C_i[:,j-1]/R/T\n",
    "        e_sum = np.sum(e)\n",
    "        dphi_e_dx[j-1] = (current[1,j-1] - d_sum)/-e_sum ##Electrolyte potential derivativeReplace ones with sumA and sumB\n",
    "        phi[0,j] = phi[0,j-1] + dphi_s_dx[j-1]*dx\n",
    "        phi[1,j] = phi[1,j-1] + dphi_e_dx[j-1]*dx\n",
    "fig, axs = plt.subplots(1,2)\n",
    "axs[0].plot(x, current[0])\n",
    "axs[0].plot(x, current[1])\n",
    "axs[0].plot([0,nodes*dx],[applied_current, applied_current])\n",
    "axs[1].plot(x, phi[0])\n",
    "axs[1].plot(x, phi[1])\n",
    "\n",
    "#print(d_sum)\n",
    "#plt.plot(x[sep_cat_node+2:],current[0,sep_cat_node+2:])\n",
    "#plt.plot(x[sep_cat_node+2:],current[1,sep_cat_node+2:])\n",
    "#plt.show\n",
    "#plt.plot(x,di_e_dx)\n",
    "#plt.plot(x,di_s_dx)\n",
    "#plt.plot(x,dphi_e_dx)\n",
    "#plt.plot(x,dphi_s_dx)\n",
    "#plt.plot(x[sep_cat_node+1:],phi[0,sep_cat_node+1:])\n",
    "#plt.plot(x[1:],phi[1,1:])\n",
    "#print(current[0,sep_cat_node+1])\n"
   ]
  },
  {
   "cell_type": "code",
   "execution_count": 33,
   "metadata": {},
   "outputs": [
    {
     "name": "stdout",
     "output_type": "stream",
     "text": [
      "0.0\n"
     ]
    },
    {
     "data": {
      "image/png": "[encoded data removed]",
      "text/plain": [
       "<Figure size 432x288 with 1 Axes>"
      ]
     },
     "metadata": {
      "needs_background": "light"
     },
     "output_type": "display_data"
    }
   ],
   "source": [
    "plt.plot(x,phi[1])\n",
    "#plt.xlim(dx,dx*nodes)\n",
    "print(current[0,sep_cat_node])"
   ]
  },
  {
   "cell_type": "code",
   "execution_count": 34,
   "metadata": {},
   "outputs": [
    {
     "data": {
      "text/plain": [
       "(2.125, 2.175)"
      ]
     },
     "execution_count": 34,
     "metadata": {},
     "output_type": "execute_result"
    },
    {
     "data": {
      "image/png": "[encoded data removed]",
      "text/plain": [
       "<Figure size 432x288 with 1 Axes>"
      ]
     },
     "metadata": {
      "needs_background": "light"
     },
     "output_type": "display_data"
    }
   ],
   "source": [
    "plt.plot(x,phi[0])\n",
    "plt.xlim(dx*(sep_cat_node+2),dx*nodes)\n",
    "plt.ylim(2.125,2.175)"
   ]
  },
  {
   "cell_type": "code",
   "execution_count": null,
   "metadata": {},
   "outputs": [],
   "source": []
  }
 ],
 "metadata": {
  "kernelspec": {
   "display_name": "Python 3",
   "language": "python",
   "name": "python3"
  },
  "language_info": {
   "codemirror_mode": {
    "name": "ipython",
    "version": 3
   },
   "file_extension": ".py",
   "mimetype": "text/x-python",
   "name": "python",
   "nbconvert_exporter": "python",
   "pygments_lexer": "ipython3",
   "version": "3.7.3"
  }
 },
 "nbformat": 4,
 "nbformat_minor": 2
}
